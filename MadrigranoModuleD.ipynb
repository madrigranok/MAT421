{
  "nbformat": 4,
  "nbformat_minor": 0,
  "metadata": {
    "colab": {
      "provenance": [],
      "authorship_tag": "ABX9TyP8GRCZeBKhH6KmyI7EU/Jz",
      "include_colab_link": true
    },
    "kernelspec": {
      "name": "python3",
      "display_name": "Python 3"
    },
    "language_info": {
      "name": "python"
    }
  },
  "cells": [
    {
      "cell_type": "markdown",
      "metadata": {
        "id": "view-in-github",
        "colab_type": "text"
      },
      "source": [
        "<a href=\"https://colab.research.google.com/github/madrigranok/MAT421/blob/main/MadrigranoModuleD.ipynb\" target=\"_parent\"><img src=\"https://colab.research.google.com/assets/colab-badge.svg\" alt=\"Open In Colab\"/></a>"
      ]
    },
    {
      "cell_type": "markdown",
      "source": [
        "This chapter is just a review over Applied Linear Algebra for me, so I'll just be focusing on how to work with my knowledge in python"
      ],
      "metadata": {
        "id": "NXY3ZFnHnWn7"
      }
    },
    {
      "cell_type": "code",
      "source": [
        "#dot product has two separate ways we can achieve\n",
        "\n",
        "import numpy as np\n",
        "\n",
        "v = np.array([1, 2, 3])\n",
        "w = np.array([4, 5, 6])\n",
        "\n",
        "dot1 = np.sum(v*w)\n",
        "\n",
        "dot2 = np.dot(v,w)\n",
        "\n",
        "print(\"First method:\", dot1)\n",
        "print(\"\\nSecond method:\", dot2)"
      ],
      "metadata": {
        "colab": {
          "base_uri": "https://localhost:8080/"
        },
        "id": "Ol7SY9J_okSU",
        "outputId": "414754aa-5f8b-49f4-ac95-d0754840d220"
      },
      "execution_count": 4,
      "outputs": [
        {
          "output_type": "stream",
          "name": "stdout",
          "text": [
            "First method: 32\n",
            "\n",
            "Second method: 32\n"
          ]
        }
      ]
    },
    {
      "cell_type": "code",
      "source": [
        "#norms in python\n",
        "\n",
        "import numpy as np\n",
        "\n",
        "v = np.array([1, 2, 3])\n",
        "w = np.array([4, 5, 6])\n",
        "\n",
        "l2v1 = np.sqrt(np.sum(v*v))\n",
        "l2w1 = np.sqrt(np.sum(w*w))\n",
        "\n",
        "l2v2 = np.linalg.norm(v, 2)\n",
        "l2w2 = np.linalg.norm(w, 2)\n",
        "\n",
        "#we can also do the infinite norm\n",
        "\n",
        "infv = np.linalg.norm(v, np.inf)\n",
        "infw = np.linalg.norm(w, np.inf)\n",
        "\n",
        "print(\"First Method for 2 norm of v:\", l2v1, \" Second Method for 2 norm of v:\", l2v2)\n",
        "print(\"\\nFirst Method for 2 norm of w:\", l2w1, \" Second Method for 2 norm of w:\", l2w2)\n",
        "print(\"\\nInfinite Norm of v:\", infv, \" Infinite Norm of w\", infw)"
      ],
      "metadata": {
        "colab": {
          "base_uri": "https://localhost:8080/"
        },
        "id": "QInd7rJxppwP",
        "outputId": "b76b75ea-db34-4be3-88a4-5418cb5704f7"
      },
      "execution_count": 5,
      "outputs": [
        {
          "output_type": "stream",
          "name": "stdout",
          "text": [
            "First Method for 2 norm of v: 3.7416573867739413  Second Method for 2 norm of v: 3.7416573867739413\n",
            "\n",
            "First Method for 2 norm of w: 8.774964387392123  Second Method for 2 norm of w: 8.774964387392123\n",
            "\n",
            "Infinite Norm of v: 3.0  Infinite Norm of w 6.0\n"
          ]
        }
      ]
    },
    {
      "cell_type": "code",
      "source": [
        "#Eigenvalues and Eigenvectors\n",
        "\n",
        "import numpy as np\n",
        "\n",
        "A = np.array([[1,2],[3,4]])\n",
        "eval, evec = np.linalg.eig(A)\n",
        "\n",
        "print(\"The Eigenvalues of A are:\", eval)\n",
        "print(\"\\nThe Eigenvectors of A are:\", evec)"
      ],
      "metadata": {
        "colab": {
          "base_uri": "https://localhost:8080/"
        },
        "id": "cySz84O1rsJH",
        "outputId": "decf89f5-4c57-4355-c57e-e25d0d113c21"
      },
      "execution_count": 7,
      "outputs": [
        {
          "output_type": "stream",
          "name": "stdout",
          "text": [
            "The Eigenvalues of A are: [-0.37228132  5.37228132]\n",
            "\n",
            "The Eigenvectors of A are: [[-0.82456484 -0.41597356]\n",
            " [ 0.56576746 -0.90937671]]\n"
          ]
        }
      ]
    },
    {
      "cell_type": "code",
      "source": [
        "#QR Decomp has a function in scipy so I'll be using that\n",
        "\n",
        "import numpy as np\n",
        "import scipy.linalg\n",
        "from pprint import pprint  #complex data structure print\n",
        "\n",
        "A = np.array([[1, 2, 3],[4, 5, 6],[7, 8, 9]])\n",
        "Q,R = scipy.linalg.qr(A)\n",
        "\n",
        "print(\"A :\");pprint(A)\n",
        "print(\"\\nQ :\");pprint(Q)\n",
        "print(\"\\nR :\");pprint(R)"
      ],
      "metadata": {
        "colab": {
          "base_uri": "https://localhost:8080/"
        },
        "id": "zYPLvw4ls68y",
        "outputId": "fd77bd0b-f31d-4ae5-ea4a-eae3df3aa858"
      },
      "execution_count": 9,
      "outputs": [
        {
          "output_type": "stream",
          "name": "stdout",
          "text": [
            "A :\n",
            "array([[1, 2, 3],\n",
            "       [4, 5, 6],\n",
            "       [7, 8, 9]])\n",
            "\n",
            "Q :\n",
            "array([[-0.12309149,  0.90453403,  0.40824829],\n",
            "       [-0.49236596,  0.30151134, -0.81649658],\n",
            "       [-0.86164044, -0.30151134,  0.40824829]])\n",
            "\n",
            "R :\n",
            "array([[-8.12403840e+00, -9.60113630e+00, -1.10782342e+01],\n",
            "       [ 0.00000000e+00,  9.04534034e-01,  1.80906807e+00],\n",
            "       [ 0.00000000e+00,  0.00000000e+00, -8.88178420e-16]])\n"
          ]
        }
      ]
    },
    {
      "cell_type": "code",
      "source": [
        "#Least Squares in python;  Im basing this off of berkeley's guide that we've been following in class\n",
        "\n",
        "import numpy as np\n",
        "from scipy import optimize #least squares is an optimization method\n",
        "import matplotlib.pyplot as plt\n",
        "\n",
        "x = np.linspace(0, 1, 101)\n",
        "y = 1 + x + x * np.random.random(len(x))\n",
        "\n",
        "A = np.vstack([x, np.ones(len(x))]).T  #A matrix\n",
        "\n",
        "y = y[:, np.newaxis]  #column vec\n",
        "\n",
        "ans = np.dot((np.dot(np.linalg.inv(np.dot(A.T,A)),A.T)),y)\n",
        "print(\"First Method: \", ans)\n",
        "\n",
        "pinv = np.linalg.pinv(A)  #pseudo inverse\n",
        "ans2 = pinv.dot(y)\n",
        "print(\"\\nSecond Method: \", ans2)\n",
        "\n",
        "ans3 = np.linalg.lstsq(A, y, rcond=None)[0]  #numpy's already existing func\n",
        "print(\"\\nThird Method: \", ans3)"
      ],
      "metadata": {
        "colab": {
          "base_uri": "https://localhost:8080/"
        },
        "id": "UvNi9mN-uimb",
        "outputId": "f7f54bf9-4251-4431-deb5-b587908e08f5"
      },
      "execution_count": 12,
      "outputs": [
        {
          "output_type": "stream",
          "name": "stdout",
          "text": [
            "First Method:  [[1.40521663]\n",
            " [1.02232119]]\n",
            "\n",
            "Second Method:  [[1.40521663]\n",
            " [1.02232119]]\n",
            "\n",
            "Third Method:  [[1.40521663]\n",
            " [1.02232119]]\n"
          ]
        }
      ]
    }
  ]
}