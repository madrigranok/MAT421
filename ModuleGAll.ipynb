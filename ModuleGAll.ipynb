{
  "nbformat": 4,
  "nbformat_minor": 0,
  "metadata": {
    "colab": {
      "provenance": [],
      "authorship_tag": "ABX9TyOeltprDSnxq3Dhl+8MyMjU",
      "include_colab_link": true
    },
    "kernelspec": {
      "name": "python3",
      "display_name": "Python 3"
    },
    "language_info": {
      "name": "python"
    }
  },
  "cells": [
    {
      "cell_type": "markdown",
      "metadata": {
        "id": "view-in-github",
        "colab_type": "text"
      },
      "source": [
        "<a href=\"https://colab.research.google.com/github/madrigranok/MAT421/blob/main/ModuleGAll.ipynb\" target=\"_parent\"><img src=\"https://colab.research.google.com/assets/colab-badge.svg\" alt=\"Open In Colab\"/></a>"
      ]
    },
    {
      "cell_type": "markdown",
      "source": [
        "I was really sick last week, so I know this code has stuff from the first part of module G, but its more for my own work and not for grades"
      ],
      "metadata": {
        "id": "-WtCkMlvL8yj"
      }
    },
    {
      "cell_type": "code",
      "execution_count": 3,
      "metadata": {
        "colab": {
          "base_uri": "https://localhost:8080/"
        },
        "id": "59VjC-CxL6wO",
        "outputId": "838ae52d-5069-4d34-a5d9-f3594eecbd77"
      },
      "outputs": [
        {
          "output_type": "stream",
          "name": "stdout",
          "text": [
            "Integral Left Reimann :  1.9835235375094546\n",
            "Integral Right Reimann :  1.9835235375094546\n",
            "Integral Mid :  2.0082484079079745\n",
            "Error Left Reimann :  0.01647646249054535\n",
            "Error Right Reimann :  0.01647646249054535\n",
            "Error Mid :  -0.008248407907974542\n"
          ]
        }
      ],
      "source": [
        "#Reimann\n",
        "import numpy as np\n",
        "a = 0\n",
        "b = np.pi\n",
        "n = 11\n",
        "h = (b-a)/(n-1)\n",
        "x = np.linspace(a, b ,n)\n",
        "f = np.sin(x)\n",
        "\n",
        "irl = h*sum(f[:n-1])\n",
        "errl = 2 - irl\n",
        "\n",
        "irr = h*sum(f[1::])\n",
        "errr = 2 - irr\n",
        "\n",
        "imid = h*sum(np.sin((x[:n-1] + x[1:])/2))\n",
        "errm = 2 - imid\n",
        "\n",
        "print(\"Integral Left Reimann : \", irl)\n",
        "print(\"Integral Right Reimann : \", irr)\n",
        "print(\"Integral Mid : \", imid)\n",
        "\n",
        "print(\"Error Left Reimann : \", errl)\n",
        "print(\"Error Right Reimann : \", errr)\n",
        "print(\"Error Mid : \", errm)"
      ]
    },
    {
      "cell_type": "code",
      "source": [
        "# trapezoidal rule\n",
        "import numpy as np\n",
        "a = 0\n",
        "b = np.pi\n",
        "n = 11\n",
        "h = (b-a)/(n-1)\n",
        "x = np.linspace(a, b, n)\n",
        "f = np.sin(x)\n",
        "\n",
        "itrap = (h/2)*(f[0] + 2*sum(f[1:n-1]) + f[n-1])\n",
        "errt = 2 - itrap\n",
        "\n",
        "print(\"Intregral Trapezoidal Rule : \", itrap)\n",
        "print(\"Error Trapezoidal Rule : \", errt)"
      ],
      "metadata": {
        "colab": {
          "base_uri": "https://localhost:8080/"
        },
        "id": "bgdNw1RXNWe4",
        "outputId": "700a5a85-8104-4d65-9c8e-666ca5ca9ec5"
      },
      "execution_count": 5,
      "outputs": [
        {
          "output_type": "stream",
          "name": "stdout",
          "text": [
            "Intregral Trapezoidal Rule :  1.9835235375094546\n",
            "Error Trapezoidal Rule :  0.01647646249054535\n"
          ]
        }
      ]
    },
    {
      "cell_type": "code",
      "source": [
        "#Simpson\n",
        "import numpy as np\n",
        "a = 0\n",
        "b = np.pi\n",
        "n = 11\n",
        "h = (b-a)/(n-1)\n",
        "x = np.linspace(a, b, n)\n",
        "f = np.sin(x)\n",
        "\n",
        "isimp = (h/3)*(f[0] + 2*sum(f[:n-2:2]) + 4*sum(f[1:n-1:2]) + f[n-1])\n",
        "errs = 2-isimp\n",
        "\n",
        "print(\"Integral Simpson's Rule : \", isimp)\n",
        "print(\"Error Simpson's Rule : \", errs)"
      ],
      "metadata": {
        "colab": {
          "base_uri": "https://localhost:8080/"
        },
        "id": "swqVLZ1qO2fF",
        "outputId": "fbaf68ec-bf1d-41cd-d3f9-b62c0e64faf0"
      },
      "execution_count": 6,
      "outputs": [
        {
          "output_type": "stream",
          "name": "stdout",
          "text": [
            "Integral Simpson's Rule :  2.0001095173150043\n",
            "Error Simpson's Rule :  -0.00010951731500430384\n"
          ]
        }
      ]
    },
    {
      "cell_type": "code",
      "source": [
        "#using scipy\n",
        "import numpy as np\n",
        "from scipy.integrate import trapz\n",
        "from scipy.integrate import quad\n",
        "a = 0\n",
        "b = np.pi\n",
        "n = 11\n",
        "h = (b-a)/(n-1)\n",
        "x = np.linspace(a, b, n)\n",
        "f = np.sin(x)\n",
        "\n",
        "itrap = trapz(f,x)\n",
        "erri = 2 - itrap\n",
        "\n",
        "iquad, errq = quad(np.sin, a, b)\n",
        "\n",
        "print(\"Integral using scipy trapz : \", itrap)\n",
        "print(\"Integral using scipy quad : \", iquad)\n",
        "\n",
        "print(\"Error using scipy trapz : \", erri)\n",
        "print(\"Error using scipy quad :\", errq)"
      ],
      "metadata": {
        "colab": {
          "base_uri": "https://localhost:8080/"
        },
        "id": "SqKrXnBOPiPl",
        "outputId": "bb904af3-41db-4d15-c986-3c37f8acb8d9"
      },
      "execution_count": 7,
      "outputs": [
        {
          "output_type": "stream",
          "name": "stdout",
          "text": [
            "Integral using scipy trapz :  1.9835235375094544\n",
            "Integral using scipy quad :  2.0\n",
            "Error using scipy trapz :  0.016476462490545574\n",
            "Error using scipy quad : 2.220446049250313e-14\n"
          ]
        }
      ]
    }
  ]
}