{
  "nbformat": 4,
  "nbformat_minor": 0,
  "metadata": {
    "colab": {
      "provenance": [],
      "authorship_tag": "ABX9TyMmxXFxzVADxDulahcgjUYy",
      "include_colab_link": true
    },
    "kernelspec": {
      "name": "python3",
      "display_name": "Python 3"
    },
    "language_info": {
      "name": "python"
    }
  },
  "cells": [
    {
      "cell_type": "markdown",
      "metadata": {
        "id": "view-in-github",
        "colab_type": "text"
      },
      "source": [
        "<a href=\"https://colab.research.google.com/github/madrigranok/MAT421/blob/main/MadrigranoModuleC.ipynb\" target=\"_parent\"><img src=\"https://colab.research.google.com/assets/colab-badge.svg\" alt=\"Open In Colab\"/></a>"
      ]
    },
    {
      "cell_type": "markdown",
      "source": [
        "We've already covered these in Numerical Analysis 1 and 2, so I'm just going to type the code in python for practice using the same equation I've been using this whole time : f(x) = x^3 - 2x + 2"
      ],
      "metadata": {
        "id": "T_DHbrdatpVG"
      }
    },
    {
      "cell_type": "code",
      "execution_count": 2,
      "metadata": {
        "colab": {
          "base_uri": "https://localhost:8080/"
        },
        "id": "ac1xoyTXtmTP",
        "outputId": "c267bced-2294-4d18-d7fd-3b00aa2aaa0a"
      },
      "outputs": [
        {
          "output_type": "stream",
          "name": "stdout",
          "text": [
            "r =  -1.76953125\n"
          ]
        }
      ],
      "source": [
        "import numpy as np\n",
        "def bisect(f, a, b, tol) :\n",
        "  if np.sign(f(a)) == np.sign(f(b)) :\n",
        "    raise Exception(\"There is no root between the given a and b.\")\n",
        "  m = (a + b)/2;\n",
        "  if np.abs(f(m)) < tol :\n",
        "    return m\n",
        "  elif np.sign(f(a)) == np.sign(f(m)) :\n",
        "    return bisect(f, m, b, tol)\n",
        "  elif np.sign(f(b)) == np.sign(f(m)) :\n",
        "    return bisect(f, a, m, tol) \n",
        "\n",
        "f = lambda x: x**3 - 2*x + 2\n",
        "\n",
        "r = bisect(f, -3, 3, 0.005)\n",
        "\n",
        "print(\"r = \", r);"
      ]
    },
    {
      "cell_type": "markdown",
      "source": [
        "If for some reason the given interval didn't hold the root, we could change the error catch to a while loop that increases the interval until sign(f(a)*f(b)) is negative which would indicate that the root is included and then continue onto the rest of the function.  Although, I would separate these into two separate functions, r and bisect.  I will upload my matlab code for this as I wrote that last week. "
      ],
      "metadata": {
        "id": "t8BljAXZw4L7"
      }
    },
    {
      "cell_type": "code",
      "source": [
        "import numpy as np\n",
        "def newton(f, df, xnot, tol) :\n",
        "  if abs(f(xnot)) < tol :\n",
        "    return xnot\n",
        "  else :\n",
        "    return newton (f, df, xnot - f(xnot)/df(xnot), tol)\n",
        "\n",
        "f = lambda x : x**3 - 2*x + 2\n",
        "df = lambda x : 3*x**2 - 2\n",
        "\n",
        "r = newton (f, df, -1, 0.005)\n",
        "\n",
        "print(\"r = \", r);"
      ],
      "metadata": {
        "colab": {
          "base_uri": "https://localhost:8080/"
        },
        "id": "P4-NKFnCwD6S",
        "outputId": "fa0cc0f5-b4e1-479b-f32e-358c2b5e5cde"
      },
      "execution_count": 4,
      "outputs": [
        {
          "output_type": "stream",
          "name": "stdout",
          "text": [
            "r =  -1.7693013974364495\n"
          ]
        }
      ]
    }
  ]
}